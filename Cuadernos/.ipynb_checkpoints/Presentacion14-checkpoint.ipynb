{
 "cells": [
  {
   "cell_type": "markdown",
   "id": "2f93a5da",
   "metadata": {},
   "source": [
    "# Presentación 14:\n",
    "\n",
    "En esta clase continuarémos examinando los procedimientos que existen en Python para el modelamiento de series de tiempo.\n",
    "\n",
    "Para esto consideremos los datos relacionados con Accidentes Eléctricos en Colombia y que están disponibles en el sitio [(CLICK AQUÍ)](https://www.datos.gov.co/Minas-y-Energ-a/Superservicios-Informaci-n-de-Accidentes-de-Origen/es62-3x6p). \n",
    "\n",
    "La base de datos en formato Excel también está disponible en la carpeta de bases de datos del curso con el nombre de __accidentes_electricos.xlsx__ y cuyo link está en el Moodle del curso."
   ]
  },
  {
   "cell_type": "code",
   "execution_count": 2,
   "id": "664c12e7",
   "metadata": {},
   "outputs": [],
   "source": [
    "import pandas as pd # Para importar las BD\n",
    "import numpy as np # Para trabajar con vectores, matrices y funciones especiales\n",
    "from matplotlib import pyplot as plt\n",
    "from statsmodels.tsa.arima.model import ARIMA\n",
    "from datetime import datetime\n",
    "from statsmodels.tsa.stattools import adfuller\n",
    "from statsmodels.graphics.tsaplots import plot_acf, plot_pacf\n",
    "import statsmodels.api as sm\n",
    "plt.style.use('fivethirtyeight') # Para dar un estilo distinto a los gráficos"
   ]
  },
  {
   "cell_type": "code",
   "execution_count": 3,
   "id": "8e95cc4b",
   "metadata": {},
   "outputs": [],
   "source": [
    "# La hoja bd1 contiene la base de datos de interés:\n",
    "acce = pd.read_excel(\"../../DATOS/accidentes_electricos.xlsx\", sheet_name=\"bd1\", parse_dates=[\"FECHA\"]) "
   ]
  },
  {
   "cell_type": "code",
   "execution_count": 4,
   "id": "980c6b16",
   "metadata": {},
   "outputs": [
    {
     "data": {
      "text/plain": [
       "(3161, 23)"
      ]
     },
     "execution_count": 4,
     "metadata": {},
     "output_type": "execute_result"
    }
   ],
   "source": [
    "acce.shape"
   ]
  },
  {
   "cell_type": "code",
   "execution_count": 5,
   "id": "daef1250",
   "metadata": {
    "scrolled": true
   },
   "outputs": [
    {
     "data": {
      "text/plain": [
       "IDENTIFICADOR_EMPRESA           float64\n",
       "EMPRESA                          object\n",
       "FECHA                    datetime64[ns]\n",
       "ANIO                              int64\n",
       "TRIMESTRE                         int64\n",
       "HORA                             object\n",
       "COD_DANE                          int64\n",
       "DEPARTAMENTO                     object\n",
       "MUNICIPIO                        object\n",
       "CENTRO_POBLADO                   object\n",
       "UBICACION                        object\n",
       "SEXO                             object\n",
       "EDAD                              int64\n",
       "TIPO_IDENTIFICACION              object\n",
       "VINCULADO_EMPRESA                object\n",
       "TIPO_VINCULACION                 object\n",
       "GRADO_ESCOLARIDAD                object\n",
       "TIEMPO_VINCULACION              float64\n",
       "SECCION_EMPRESA                  object\n",
       "TIPO_LESION                      object\n",
       "ORIGEN_ACCIDENTE                 object\n",
       "CAUSA_ACCIDENTE                  object\n",
       "MEDIDAS                          object\n",
       "dtype: object"
      ]
     },
     "execution_count": 5,
     "metadata": {},
     "output_type": "execute_result"
    }
   ],
   "source": [
    "acce.dtypes"
   ]
  },
  {
   "cell_type": "code",
   "execution_count": 6,
   "id": "cd829a5a",
   "metadata": {
    "scrolled": false
   },
   "outputs": [
    {
     "data": {
      "text/html": [
       "<div>\n",
       "<style scoped>\n",
       "    .dataframe tbody tr th:only-of-type {\n",
       "        vertical-align: middle;\n",
       "    }\n",
       "\n",
       "    .dataframe tbody tr th {\n",
       "        vertical-align: top;\n",
       "    }\n",
       "\n",
       "    .dataframe thead th {\n",
       "        text-align: right;\n",
       "    }\n",
       "</style>\n",
       "<table border=\"1\" class=\"dataframe\">\n",
       "  <thead>\n",
       "    <tr style=\"text-align: right;\">\n",
       "      <th></th>\n",
       "      <th>IDENTIFICADOR_EMPRESA</th>\n",
       "      <th>EMPRESA</th>\n",
       "      <th>FECHA</th>\n",
       "      <th>ANIO</th>\n",
       "      <th>TRIMESTRE</th>\n",
       "      <th>HORA</th>\n",
       "      <th>COD_DANE</th>\n",
       "      <th>DEPARTAMENTO</th>\n",
       "      <th>MUNICIPIO</th>\n",
       "      <th>CENTRO_POBLADO</th>\n",
       "      <th>...</th>\n",
       "      <th>TIPO_IDENTIFICACION</th>\n",
       "      <th>VINCULADO_EMPRESA</th>\n",
       "      <th>TIPO_VINCULACION</th>\n",
       "      <th>GRADO_ESCOLARIDAD</th>\n",
       "      <th>TIEMPO_VINCULACION</th>\n",
       "      <th>SECCION_EMPRESA</th>\n",
       "      <th>TIPO_LESION</th>\n",
       "      <th>ORIGEN_ACCIDENTE</th>\n",
       "      <th>CAUSA_ACCIDENTE</th>\n",
       "      <th>MEDIDAS</th>\n",
       "    </tr>\n",
       "  </thead>\n",
       "  <tbody>\n",
       "    <tr>\n",
       "      <th>0</th>\n",
       "      <td>3226.0</td>\n",
       "      <td>EMPRESA DISTRIBUIDORA DEL PACIFICO S.A. E.S.P</td>\n",
       "      <td>2013-01-23</td>\n",
       "      <td>2013</td>\n",
       "      <td>1</td>\n",
       "      <td>16:00:00</td>\n",
       "      <td>27361000</td>\n",
       "      <td>CHOCO</td>\n",
       "      <td>ISTMINA</td>\n",
       "      <td>ISTMINA</td>\n",
       "      <td>...</td>\n",
       "      <td>C.C.</td>\n",
       "      <td>S</td>\n",
       "      <td>TEMPORAL</td>\n",
       "      <td>BACHILLER</td>\n",
       "      <td>12.000</td>\n",
       "      <td>Mantenimiento - Distribución</td>\n",
       "      <td>Quemaduras</td>\n",
       "      <td>Falta conductor puesta a tierra</td>\n",
       "      <td>Contacto Indirecto</td>\n",
       "      <td>Se dictaron charlas al persnal operativo sobre...</td>\n",
       "    </tr>\n",
       "    <tr>\n",
       "      <th>1</th>\n",
       "      <td>2249.0</td>\n",
       "      <td>ELECTRIFICADORA DEL CARIBE S.A. E.S.P.</td>\n",
       "      <td>2011-10-14</td>\n",
       "      <td>2011</td>\n",
       "      <td>4</td>\n",
       "      <td>11:43:00</td>\n",
       "      <td>13430000</td>\n",
       "      <td>BOLIVAR</td>\n",
       "      <td>MAGANGUE</td>\n",
       "      <td>MAGANGUE</td>\n",
       "      <td>...</td>\n",
       "      <td>C.C.</td>\n",
       "      <td>N</td>\n",
       "      <td>NO APLICA</td>\n",
       "      <td>OTRO</td>\n",
       "      <td>11.111</td>\n",
       "      <td>Mantenimiento - Distribución</td>\n",
       "      <td>Quemaduras</td>\n",
       "      <td>Violación de distancias de seguridad</td>\n",
       "      <td>Contacto Directo</td>\n",
       "      <td>Se reubico la linea de media tension abriendol...</td>\n",
       "    </tr>\n",
       "    <tr>\n",
       "      <th>2</th>\n",
       "      <td>3370.0</td>\n",
       "      <td>EMPRESA DE ENERGIA DE CASANARE SA ESP</td>\n",
       "      <td>2015-05-09</td>\n",
       "      <td>2015</td>\n",
       "      <td>3</td>\n",
       "      <td>09:15:00</td>\n",
       "      <td>85263000</td>\n",
       "      <td>CASANARE</td>\n",
       "      <td>PORE</td>\n",
       "      <td>PORE</td>\n",
       "      <td>...</td>\n",
       "      <td>C.C.</td>\n",
       "      <td>S</td>\n",
       "      <td>CONTRATISTA</td>\n",
       "      <td>TÉCNICO</td>\n",
       "      <td>6.000</td>\n",
       "      <td>Operación - Distribución</td>\n",
       "      <td>Quemaduras</td>\n",
       "      <td>Fallas de operación</td>\n",
       "      <td>Contacto Directo</td>\n",
       "      <td>Instalacion correcta puesta a tierra Reforzar ...</td>\n",
       "    </tr>\n",
       "    <tr>\n",
       "      <th>3</th>\n",
       "      <td>23442.0</td>\n",
       "      <td>COMPAÑIA ENERGETICA DE OCCIDENTE S.A.S.  E.S.P.</td>\n",
       "      <td>2014-11-27</td>\n",
       "      <td>2014</td>\n",
       "      <td>4</td>\n",
       "      <td>11:40:00</td>\n",
       "      <td>19698020</td>\n",
       "      <td>CAUCA</td>\n",
       "      <td>SANTANDER DE QUILICHAO</td>\n",
       "      <td>QUINAMAYO</td>\n",
       "      <td>...</td>\n",
       "      <td>C.C.</td>\n",
       "      <td>S</td>\n",
       "      <td>CONTRATISTA</td>\n",
       "      <td>BÁSICA PRIMARIA</td>\n",
       "      <td>2.000</td>\n",
       "      <td>Otro - Distribución</td>\n",
       "      <td>Muerte</td>\n",
       "      <td>Violación de distancias de seguridad</td>\n",
       "      <td>Contacto Indirecto</td>\n",
       "      <td>Realizar un programa de capacitacion de identi...</td>\n",
       "    </tr>\n",
       "    <tr>\n",
       "      <th>4</th>\n",
       "      <td>2249.0</td>\n",
       "      <td>ELECTRIFICADORA DEL CARIBE S.A. E.S.P.</td>\n",
       "      <td>2014-01-09</td>\n",
       "      <td>2014</td>\n",
       "      <td>3</td>\n",
       "      <td>09:15:00</td>\n",
       "      <td>8001000</td>\n",
       "      <td>ATLANTICO</td>\n",
       "      <td>BARRANQUILLA</td>\n",
       "      <td>BARRANQUILLA</td>\n",
       "      <td>...</td>\n",
       "      <td>N.N.</td>\n",
       "      <td>N</td>\n",
       "      <td>NO APLICA</td>\n",
       "      <td>OTRO</td>\n",
       "      <td>11.111</td>\n",
       "      <td>Mantenimiento - Distribución</td>\n",
       "      <td>Otra</td>\n",
       "      <td>Otra</td>\n",
       "      <td>Contacto Indirecto</td>\n",
       "      <td>Se cambio el conductor del neutro y se le reco...</td>\n",
       "    </tr>\n",
       "  </tbody>\n",
       "</table>\n",
       "<p>5 rows × 23 columns</p>\n",
       "</div>"
      ],
      "text/plain": [
       "   IDENTIFICADOR_EMPRESA                                          EMPRESA  \\\n",
       "0                 3226.0    EMPRESA DISTRIBUIDORA DEL PACIFICO S.A. E.S.P   \n",
       "1                 2249.0           ELECTRIFICADORA DEL CARIBE S.A. E.S.P.   \n",
       "2                 3370.0            EMPRESA DE ENERGIA DE CASANARE SA ESP   \n",
       "3                23442.0  COMPAÑIA ENERGETICA DE OCCIDENTE S.A.S.  E.S.P.   \n",
       "4                 2249.0           ELECTRIFICADORA DEL CARIBE S.A. E.S.P.   \n",
       "\n",
       "       FECHA  ANIO  TRIMESTRE      HORA  COD_DANE DEPARTAMENTO  \\\n",
       "0 2013-01-23  2013          1  16:00:00  27361000        CHOCO   \n",
       "1 2011-10-14  2011          4  11:43:00  13430000      BOLIVAR   \n",
       "2 2015-05-09  2015          3  09:15:00  85263000     CASANARE   \n",
       "3 2014-11-27  2014          4  11:40:00  19698020        CAUCA   \n",
       "4 2014-01-09  2014          3  09:15:00   8001000    ATLANTICO   \n",
       "\n",
       "                MUNICIPIO CENTRO_POBLADO  ... TIPO_IDENTIFICACION  \\\n",
       "0                 ISTMINA        ISTMINA  ...                C.C.   \n",
       "1                MAGANGUE       MAGANGUE  ...                C.C.   \n",
       "2                    PORE           PORE  ...                C.C.   \n",
       "3  SANTANDER DE QUILICHAO      QUINAMAYO  ...                C.C.   \n",
       "4            BARRANQUILLA   BARRANQUILLA  ...                N.N.   \n",
       "\n",
       "  VINCULADO_EMPRESA  TIPO_VINCULACION GRADO_ESCOLARIDAD TIEMPO_VINCULACION  \\\n",
       "0                 S          TEMPORAL         BACHILLER             12.000   \n",
       "1                 N         NO APLICA              OTRO             11.111   \n",
       "2                 S       CONTRATISTA           TÉCNICO              6.000   \n",
       "3                 S       CONTRATISTA   BÁSICA PRIMARIA              2.000   \n",
       "4                 N         NO APLICA              OTRO             11.111   \n",
       "\n",
       "                SECCION_EMPRESA TIPO_LESION  \\\n",
       "0  Mantenimiento - Distribución  Quemaduras   \n",
       "1  Mantenimiento - Distribución  Quemaduras   \n",
       "2      Operación - Distribución  Quemaduras   \n",
       "3           Otro - Distribución      Muerte   \n",
       "4  Mantenimiento - Distribución        Otra   \n",
       "\n",
       "                       ORIGEN_ACCIDENTE     CAUSA_ACCIDENTE  \\\n",
       "0       Falta conductor puesta a tierra  Contacto Indirecto   \n",
       "1  Violación de distancias de seguridad    Contacto Directo   \n",
       "2                   Fallas de operación    Contacto Directo   \n",
       "3  Violación de distancias de seguridad  Contacto Indirecto   \n",
       "4                                  Otra  Contacto Indirecto   \n",
       "\n",
       "                                             MEDIDAS  \n",
       "0  Se dictaron charlas al persnal operativo sobre...  \n",
       "1  Se reubico la linea de media tension abriendol...  \n",
       "2  Instalacion correcta puesta a tierra Reforzar ...  \n",
       "3  Realizar un programa de capacitacion de identi...  \n",
       "4  Se cambio el conductor del neutro y se le reco...  \n",
       "\n",
       "[5 rows x 23 columns]"
      ]
     },
     "execution_count": 6,
     "metadata": {},
     "output_type": "execute_result"
    }
   ],
   "source": [
    "acce.head()"
   ]
  },
  {
   "cell_type": "code",
   "execution_count": 7,
   "id": "a045da6b",
   "metadata": {},
   "outputs": [
    {
     "data": {
      "text/html": [
       "<div>\n",
       "<style scoped>\n",
       "    .dataframe tbody tr th:only-of-type {\n",
       "        vertical-align: middle;\n",
       "    }\n",
       "\n",
       "    .dataframe tbody tr th {\n",
       "        vertical-align: top;\n",
       "    }\n",
       "\n",
       "    .dataframe thead th {\n",
       "        text-align: right;\n",
       "    }\n",
       "</style>\n",
       "<table border=\"1\" class=\"dataframe\">\n",
       "  <thead>\n",
       "    <tr style=\"text-align: right;\">\n",
       "      <th></th>\n",
       "      <th>IDENTIFICADOR_EMPRESA</th>\n",
       "      <th>EMPRESA</th>\n",
       "      <th>FECHA</th>\n",
       "      <th>ANIO</th>\n",
       "      <th>TRIMESTRE</th>\n",
       "      <th>HORA</th>\n",
       "      <th>COD_DANE</th>\n",
       "      <th>DEPARTAMENTO</th>\n",
       "      <th>MUNICIPIO</th>\n",
       "      <th>CENTRO_POBLADO</th>\n",
       "      <th>...</th>\n",
       "      <th>TIPO_IDENTIFICACION</th>\n",
       "      <th>VINCULADO_EMPRESA</th>\n",
       "      <th>TIPO_VINCULACION</th>\n",
       "      <th>GRADO_ESCOLARIDAD</th>\n",
       "      <th>TIEMPO_VINCULACION</th>\n",
       "      <th>SECCION_EMPRESA</th>\n",
       "      <th>TIPO_LESION</th>\n",
       "      <th>ORIGEN_ACCIDENTE</th>\n",
       "      <th>CAUSA_ACCIDENTE</th>\n",
       "      <th>MEDIDAS</th>\n",
       "    </tr>\n",
       "  </thead>\n",
       "  <tbody>\n",
       "    <tr>\n",
       "      <th>3156</th>\n",
       "      <td>3247.0</td>\n",
       "      <td>EMPRESA MULTIPROPÓSITO DE CALARCÁ S.A.S. E.S.P.</td>\n",
       "      <td>2012-11-13</td>\n",
       "      <td>2012</td>\n",
       "      <td>4</td>\n",
       "      <td>08:40:00</td>\n",
       "      <td>63130000</td>\n",
       "      <td>QUINDIO</td>\n",
       "      <td>CALARCA</td>\n",
       "      <td>CALARCA</td>\n",
       "      <td>...</td>\n",
       "      <td>C.C.</td>\n",
       "      <td>S</td>\n",
       "      <td>TEMPORAL</td>\n",
       "      <td>BACHILLER</td>\n",
       "      <td>1.000</td>\n",
       "      <td>Mantenimiento - Generación</td>\n",
       "      <td>Traumatismos</td>\n",
       "      <td>Fallas de mantenimiento</td>\n",
       "      <td>Otra</td>\n",
       "      <td>REINDUCCION EN SALUD OCUPACIONAL AL COLABORADO...</td>\n",
       "    </tr>\n",
       "    <tr>\n",
       "      <th>3157</th>\n",
       "      <td>3372.0</td>\n",
       "      <td>A.S.C INGENIERIA SOCIEDAD ANONIMA SA ESP.</td>\n",
       "      <td>2021-01-10</td>\n",
       "      <td>2021</td>\n",
       "      <td>4</td>\n",
       "      <td>16:20:00</td>\n",
       "      <td>52001000</td>\n",
       "      <td>NARINO</td>\n",
       "      <td>PASTO</td>\n",
       "      <td>SAN JUAN DE PASTO</td>\n",
       "      <td>...</td>\n",
       "      <td>N.N.</td>\n",
       "      <td>N</td>\n",
       "      <td>NO APLICA</td>\n",
       "      <td>BÁSICA PRIMARIA</td>\n",
       "      <td>11.111</td>\n",
       "      <td>Otro - Comercialización</td>\n",
       "      <td>Otra</td>\n",
       "      <td>Otra</td>\n",
       "      <td>Otra</td>\n",
       "      <td>CUMPLIMIENTO DE PROTOCOLOS</td>\n",
       "    </tr>\n",
       "    <tr>\n",
       "      <th>3158</th>\n",
       "      <td>3247.0</td>\n",
       "      <td>EMPRESA MULTIPROPÓSITO DE CALARCÁ S.A.S. E.S.P.</td>\n",
       "      <td>2014-04-25</td>\n",
       "      <td>2014</td>\n",
       "      <td>2</td>\n",
       "      <td>17:50:00</td>\n",
       "      <td>63130000</td>\n",
       "      <td>QUINDIO</td>\n",
       "      <td>CALARCA</td>\n",
       "      <td>CALARCA</td>\n",
       "      <td>...</td>\n",
       "      <td>C.C.</td>\n",
       "      <td>S</td>\n",
       "      <td>PLANTA</td>\n",
       "      <td>BACHILLER</td>\n",
       "      <td>1.000</td>\n",
       "      <td>Mantenimiento - Generación</td>\n",
       "      <td>Traumatismos</td>\n",
       "      <td>Fallas de operación</td>\n",
       "      <td>Otra</td>\n",
       "      <td>MANTENIMIENTO A LA VOLANTE GENERADORA DEL ACCI...</td>\n",
       "    </tr>\n",
       "    <tr>\n",
       "      <th>3159</th>\n",
       "      <td>600.0</td>\n",
       "      <td>ELECTRIFICADORA DEL META S.A. E.S.P.</td>\n",
       "      <td>2021-07-16</td>\n",
       "      <td>2021</td>\n",
       "      <td>3</td>\n",
       "      <td>13:04:00</td>\n",
       "      <td>50573000</td>\n",
       "      <td>META</td>\n",
       "      <td>PUERTO LOPEZ</td>\n",
       "      <td>PUERTO LOPEZ</td>\n",
       "      <td>...</td>\n",
       "      <td>C.C.</td>\n",
       "      <td>N</td>\n",
       "      <td>NO APLICA</td>\n",
       "      <td>OTRO</td>\n",
       "      <td>11.111</td>\n",
       "      <td>Operación - Transmisión</td>\n",
       "      <td>Otra</td>\n",
       "      <td>Violación de distancias de seguridad</td>\n",
       "      <td>Contacto Indirecto</td>\n",
       "      <td>cartilla del usuario</td>\n",
       "    </tr>\n",
       "    <tr>\n",
       "      <th>3160</th>\n",
       "      <td>600.0</td>\n",
       "      <td>ELECTRIFICADORA DEL META S.A. E.S.P.</td>\n",
       "      <td>2021-11-29</td>\n",
       "      <td>2021</td>\n",
       "      <td>4</td>\n",
       "      <td>10:05:00</td>\n",
       "      <td>50568000</td>\n",
       "      <td>META</td>\n",
       "      <td>PUERTO GAITAN</td>\n",
       "      <td>PUERTO GAITAN</td>\n",
       "      <td>...</td>\n",
       "      <td>N.N.</td>\n",
       "      <td>N</td>\n",
       "      <td>NO APLICA</td>\n",
       "      <td>TÉCNICO SENA</td>\n",
       "      <td>11.111</td>\n",
       "      <td>Operación - Transmisión</td>\n",
       "      <td>Otra</td>\n",
       "      <td>Violación de distancias de seguridad</td>\n",
       "      <td>Contacto Indirecto</td>\n",
       "      <td>cartilla del usuario</td>\n",
       "    </tr>\n",
       "  </tbody>\n",
       "</table>\n",
       "<p>5 rows × 23 columns</p>\n",
       "</div>"
      ],
      "text/plain": [
       "      IDENTIFICADOR_EMPRESA                                          EMPRESA  \\\n",
       "3156                 3247.0  EMPRESA MULTIPROPÓSITO DE CALARCÁ S.A.S. E.S.P.   \n",
       "3157                 3372.0        A.S.C INGENIERIA SOCIEDAD ANONIMA SA ESP.   \n",
       "3158                 3247.0  EMPRESA MULTIPROPÓSITO DE CALARCÁ S.A.S. E.S.P.   \n",
       "3159                  600.0             ELECTRIFICADORA DEL META S.A. E.S.P.   \n",
       "3160                  600.0             ELECTRIFICADORA DEL META S.A. E.S.P.   \n",
       "\n",
       "          FECHA  ANIO  TRIMESTRE      HORA  COD_DANE DEPARTAMENTO  \\\n",
       "3156 2012-11-13  2012          4  08:40:00  63130000      QUINDIO   \n",
       "3157 2021-01-10  2021          4  16:20:00  52001000       NARINO   \n",
       "3158 2014-04-25  2014          2  17:50:00  63130000      QUINDIO   \n",
       "3159 2021-07-16  2021          3  13:04:00  50573000         META   \n",
       "3160 2021-11-29  2021          4  10:05:00  50568000         META   \n",
       "\n",
       "          MUNICIPIO     CENTRO_POBLADO  ... TIPO_IDENTIFICACION  \\\n",
       "3156        CALARCA            CALARCA  ...                C.C.   \n",
       "3157          PASTO  SAN JUAN DE PASTO  ...                N.N.   \n",
       "3158        CALARCA            CALARCA  ...                C.C.   \n",
       "3159   PUERTO LOPEZ       PUERTO LOPEZ  ...                C.C.   \n",
       "3160  PUERTO GAITAN      PUERTO GAITAN  ...                N.N.   \n",
       "\n",
       "     VINCULADO_EMPRESA  TIPO_VINCULACION GRADO_ESCOLARIDAD TIEMPO_VINCULACION  \\\n",
       "3156                 S          TEMPORAL         BACHILLER              1.000   \n",
       "3157                 N         NO APLICA   BÁSICA PRIMARIA             11.111   \n",
       "3158                 S            PLANTA         BACHILLER              1.000   \n",
       "3159                 N         NO APLICA              OTRO             11.111   \n",
       "3160                 N         NO APLICA      TÉCNICO SENA             11.111   \n",
       "\n",
       "                 SECCION_EMPRESA   TIPO_LESION  \\\n",
       "3156  Mantenimiento - Generación  Traumatismos   \n",
       "3157     Otro - Comercialización          Otra   \n",
       "3158  Mantenimiento - Generación  Traumatismos   \n",
       "3159     Operación - Transmisión          Otra   \n",
       "3160     Operación - Transmisión          Otra   \n",
       "\n",
       "                          ORIGEN_ACCIDENTE     CAUSA_ACCIDENTE  \\\n",
       "3156               Fallas de mantenimiento                Otra   \n",
       "3157                                  Otra                Otra   \n",
       "3158                   Fallas de operación                Otra   \n",
       "3159  Violación de distancias de seguridad  Contacto Indirecto   \n",
       "3160  Violación de distancias de seguridad  Contacto Indirecto   \n",
       "\n",
       "                                                MEDIDAS  \n",
       "3156  REINDUCCION EN SALUD OCUPACIONAL AL COLABORADO...  \n",
       "3157                         CUMPLIMIENTO DE PROTOCOLOS  \n",
       "3158  MANTENIMIENTO A LA VOLANTE GENERADORA DEL ACCI...  \n",
       "3159                               cartilla del usuario  \n",
       "3160                               cartilla del usuario  \n",
       "\n",
       "[5 rows x 23 columns]"
      ]
     },
     "execution_count": 7,
     "metadata": {},
     "output_type": "execute_result"
    }
   ],
   "source": [
    "acce.tail()"
   ]
  },
  {
   "cell_type": "code",
   "execution_count": 8,
   "id": "97780f97",
   "metadata": {},
   "outputs": [],
   "source": [
    "acce[\"dia\"] = pd.DatetimeIndex(acce[\"FECHA\"]).day\n",
    "acce[\"dia_sem\"] = pd.DatetimeIndex(acce[\"FECHA\"]).weekday\n",
    "# Podemos cambiarlo con:\n",
    "dia_aux1 = acce.dia_sem.unique()\n",
    "dia_aux2 = [\"Lunes\", \"Martes\", \"Miércoles\", \"Jueves\", \"Viernes\", \"Sábado\",\"Domingo\"]\n",
    "acce.dia_sem.replace(to_replace=dia_aux1, value=dia_aux2, inplace=True)\n",
    "\n",
    "acce[\"mes\"] = pd.DatetimeIndex(acce[\"FECHA\"]).month\n",
    "acce[\"anio\"] = pd.DatetimeIndex(acce[\"FECHA\"]).year"
   ]
  },
  {
   "cell_type": "markdown",
   "id": "8b4e7e12",
   "metadata": {},
   "source": [
    "Obtenemos conteos de accidentes por año y mes:"
   ]
  },
  {
   "cell_type": "code",
   "execution_count": 10,
   "id": "6f0f4662",
   "metadata": {
    "scrolled": true
   },
   "outputs": [
    {
     "data": {
      "text/html": [
       "<div>\n",
       "<style scoped>\n",
       "    .dataframe tbody tr th:only-of-type {\n",
       "        vertical-align: middle;\n",
       "    }\n",
       "\n",
       "    .dataframe tbody tr th {\n",
       "        vertical-align: top;\n",
       "    }\n",
       "\n",
       "    .dataframe thead th {\n",
       "        text-align: right;\n",
       "    }\n",
       "</style>\n",
       "<table border=\"1\" class=\"dataframe\">\n",
       "  <thead>\n",
       "    <tr style=\"text-align: right;\">\n",
       "      <th></th>\n",
       "      <th></th>\n",
       "      <th>EMPRESA</th>\n",
       "    </tr>\n",
       "    <tr>\n",
       "      <th>anio</th>\n",
       "      <th>mes</th>\n",
       "      <th></th>\n",
       "    </tr>\n",
       "  </thead>\n",
       "  <tbody>\n",
       "    <tr>\n",
       "      <th>1900</th>\n",
       "      <th>1</th>\n",
       "      <td>1</td>\n",
       "    </tr>\n",
       "    <tr>\n",
       "      <th>1986</th>\n",
       "      <th>1</th>\n",
       "      <td>1</td>\n",
       "    </tr>\n",
       "    <tr>\n",
       "      <th>1989</th>\n",
       "      <th>6</th>\n",
       "      <td>1</td>\n",
       "    </tr>\n",
       "    <tr>\n",
       "      <th>2009</th>\n",
       "      <th>8</th>\n",
       "      <td>3</td>\n",
       "    </tr>\n",
       "    <tr>\n",
       "      <th>2010</th>\n",
       "      <th>1</th>\n",
       "      <td>5</td>\n",
       "    </tr>\n",
       "    <tr>\n",
       "      <th>...</th>\n",
       "      <th>...</th>\n",
       "      <td>...</td>\n",
       "    </tr>\n",
       "    <tr>\n",
       "      <th rowspan=\"4\" valign=\"top\">2021</th>\n",
       "      <th>9</th>\n",
       "      <td>4</td>\n",
       "    </tr>\n",
       "    <tr>\n",
       "      <th>10</th>\n",
       "      <td>2</td>\n",
       "    </tr>\n",
       "    <tr>\n",
       "      <th>11</th>\n",
       "      <td>3</td>\n",
       "    </tr>\n",
       "    <tr>\n",
       "      <th>12</th>\n",
       "      <td>3</td>\n",
       "    </tr>\n",
       "    <tr>\n",
       "      <th>2022</th>\n",
       "      <th>10</th>\n",
       "      <td>1</td>\n",
       "    </tr>\n",
       "  </tbody>\n",
       "</table>\n",
       "<p>148 rows × 1 columns</p>\n",
       "</div>"
      ],
      "text/plain": [
       "          EMPRESA\n",
       "anio mes         \n",
       "1900 1          1\n",
       "1986 1          1\n",
       "1989 6          1\n",
       "2009 8          3\n",
       "2010 1          5\n",
       "...           ...\n",
       "2021 9          4\n",
       "     10         2\n",
       "     11         3\n",
       "     12         3\n",
       "2022 10         1\n",
       "\n",
       "[148 rows x 1 columns]"
      ]
     },
     "execution_count": 10,
     "metadata": {},
     "output_type": "execute_result"
    }
   ],
   "source": [
    "acce.groupby([\"anio\",\"mes\"])[[\"EMPRESA\"]].count()"
   ]
  },
  {
   "cell_type": "markdown",
   "id": "c837e6d2",
   "metadata": {},
   "source": [
    "Guardamos este resumen que lleva a una serie de tiempo:"
   ]
  },
  {
   "cell_type": "code",
   "execution_count": 11,
   "id": "25078d25",
   "metadata": {
    "scrolled": true
   },
   "outputs": [],
   "source": [
    "acce_resum1 = acce.groupby([\"anio\",\"mes\"])[[\"EMPRESA\"]].count()"
   ]
  },
  {
   "cell_type": "markdown",
   "id": "f1891ac3",
   "metadata": {},
   "source": [
    "Ponemos año y mes como variables en lugar de índices:"
   ]
  },
  {
   "cell_type": "code",
   "execution_count": 12,
   "id": "30d93bf3",
   "metadata": {},
   "outputs": [],
   "source": [
    "acce_resum1.reset_index(inplace=True)"
   ]
  },
  {
   "cell_type": "markdown",
   "id": "50ce8e00",
   "metadata": {},
   "source": [
    "Se presentan algunos años que no deberían aparecer en la BD:"
   ]
  },
  {
   "cell_type": "code",
   "execution_count": 13,
   "id": "80605bc6",
   "metadata": {},
   "outputs": [
    {
     "data": {
      "text/plain": [
       "array([1900, 1986, 1989, 2009, 2010, 2011, 2012, 2013, 2014, 2015, 2016,\n",
       "       2017, 2018, 2019, 2020, 2021, 2022], dtype=int64)"
      ]
     },
     "execution_count": 13,
     "metadata": {},
     "output_type": "execute_result"
    }
   ],
   "source": [
    "acce_resum1.anio.unique()"
   ]
  },
  {
   "cell_type": "markdown",
   "id": "dc01f464",
   "metadata": {},
   "source": [
    "Filtramos por estos valores:"
   ]
  },
  {
   "cell_type": "code",
   "execution_count": 14,
   "id": "3ef9cbf7",
   "metadata": {},
   "outputs": [
    {
     "data": {
      "text/html": [
       "<div>\n",
       "<style scoped>\n",
       "    .dataframe tbody tr th:only-of-type {\n",
       "        vertical-align: middle;\n",
       "    }\n",
       "\n",
       "    .dataframe tbody tr th {\n",
       "        vertical-align: top;\n",
       "    }\n",
       "\n",
       "    .dataframe thead th {\n",
       "        text-align: right;\n",
       "    }\n",
       "</style>\n",
       "<table border=\"1\" class=\"dataframe\">\n",
       "  <thead>\n",
       "    <tr style=\"text-align: right;\">\n",
       "      <th></th>\n",
       "      <th>anio</th>\n",
       "      <th>mes</th>\n",
       "      <th>EMPRESA</th>\n",
       "    </tr>\n",
       "  </thead>\n",
       "  <tbody>\n",
       "    <tr>\n",
       "      <th>0</th>\n",
       "      <td>1900</td>\n",
       "      <td>1</td>\n",
       "      <td>1</td>\n",
       "    </tr>\n",
       "    <tr>\n",
       "      <th>1</th>\n",
       "      <td>1986</td>\n",
       "      <td>1</td>\n",
       "      <td>1</td>\n",
       "    </tr>\n",
       "    <tr>\n",
       "      <th>2</th>\n",
       "      <td>1989</td>\n",
       "      <td>6</td>\n",
       "      <td>1</td>\n",
       "    </tr>\n",
       "    <tr>\n",
       "      <th>3</th>\n",
       "      <td>2009</td>\n",
       "      <td>8</td>\n",
       "      <td>3</td>\n",
       "    </tr>\n",
       "    <tr>\n",
       "      <th>147</th>\n",
       "      <td>2022</td>\n",
       "      <td>10</td>\n",
       "      <td>1</td>\n",
       "    </tr>\n",
       "  </tbody>\n",
       "</table>\n",
       "</div>"
      ],
      "text/plain": [
       "     anio  mes  EMPRESA\n",
       "0    1900    1        1\n",
       "1    1986    1        1\n",
       "2    1989    6        1\n",
       "3    2009    8        3\n",
       "147  2022   10        1"
      ]
     },
     "execution_count": 14,
     "metadata": {},
     "output_type": "execute_result"
    }
   ],
   "source": [
    "acce_resum1.query('anio in [1900,1986,1989,2009,2022]')"
   ]
  },
  {
   "cell_type": "markdown",
   "id": "b6f4aec5",
   "metadata": {},
   "source": [
    "Guardamos los datos que no tienen el registro de fecha erróneo:"
   ]
  },
  {
   "cell_type": "code",
   "execution_count": 22,
   "id": "e34feb14",
   "metadata": {},
   "outputs": [
    {
     "data": {
      "text/html": [
       "<div>\n",
       "<style scoped>\n",
       "    .dataframe tbody tr th:only-of-type {\n",
       "        vertical-align: middle;\n",
       "    }\n",
       "\n",
       "    .dataframe tbody tr th {\n",
       "        vertical-align: top;\n",
       "    }\n",
       "\n",
       "    .dataframe thead th {\n",
       "        text-align: right;\n",
       "    }\n",
       "</style>\n",
       "<table border=\"1\" class=\"dataframe\">\n",
       "  <thead>\n",
       "    <tr style=\"text-align: right;\">\n",
       "      <th></th>\n",
       "      <th>anio</th>\n",
       "      <th>mes</th>\n",
       "      <th>EMPRESA</th>\n",
       "    </tr>\n",
       "  </thead>\n",
       "  <tbody>\n",
       "    <tr>\n",
       "      <th>4</th>\n",
       "      <td>2010</td>\n",
       "      <td>1</td>\n",
       "      <td>5</td>\n",
       "    </tr>\n",
       "    <tr>\n",
       "      <th>5</th>\n",
       "      <td>2010</td>\n",
       "      <td>2</td>\n",
       "      <td>1</td>\n",
       "    </tr>\n",
       "    <tr>\n",
       "      <th>6</th>\n",
       "      <td>2010</td>\n",
       "      <td>3</td>\n",
       "      <td>3</td>\n",
       "    </tr>\n",
       "    <tr>\n",
       "      <th>7</th>\n",
       "      <td>2010</td>\n",
       "      <td>4</td>\n",
       "      <td>5</td>\n",
       "    </tr>\n",
       "    <tr>\n",
       "      <th>8</th>\n",
       "      <td>2010</td>\n",
       "      <td>5</td>\n",
       "      <td>2</td>\n",
       "    </tr>\n",
       "    <tr>\n",
       "      <th>...</th>\n",
       "      <td>...</td>\n",
       "      <td>...</td>\n",
       "      <td>...</td>\n",
       "    </tr>\n",
       "    <tr>\n",
       "      <th>142</th>\n",
       "      <td>2021</td>\n",
       "      <td>8</td>\n",
       "      <td>2</td>\n",
       "    </tr>\n",
       "    <tr>\n",
       "      <th>143</th>\n",
       "      <td>2021</td>\n",
       "      <td>9</td>\n",
       "      <td>4</td>\n",
       "    </tr>\n",
       "    <tr>\n",
       "      <th>144</th>\n",
       "      <td>2021</td>\n",
       "      <td>10</td>\n",
       "      <td>2</td>\n",
       "    </tr>\n",
       "    <tr>\n",
       "      <th>145</th>\n",
       "      <td>2021</td>\n",
       "      <td>11</td>\n",
       "      <td>3</td>\n",
       "    </tr>\n",
       "    <tr>\n",
       "      <th>146</th>\n",
       "      <td>2021</td>\n",
       "      <td>12</td>\n",
       "      <td>3</td>\n",
       "    </tr>\n",
       "  </tbody>\n",
       "</table>\n",
       "<p>143 rows × 3 columns</p>\n",
       "</div>"
      ],
      "text/plain": [
       "     anio  mes  EMPRESA\n",
       "4    2010    1        5\n",
       "5    2010    2        1\n",
       "6    2010    3        3\n",
       "7    2010    4        5\n",
       "8    2010    5        2\n",
       "..    ...  ...      ...\n",
       "142  2021    8        2\n",
       "143  2021    9        4\n",
       "144  2021   10        2\n",
       "145  2021   11        3\n",
       "146  2021   12        3\n",
       "\n",
       "[143 rows x 3 columns]"
      ]
     },
     "execution_count": 22,
     "metadata": {},
     "output_type": "execute_result"
    }
   ],
   "source": [
    "acce_resum1a = acce_resum1.query('~(anio in [1900,1986,1989,2009, 2022])')\n",
    "acce_resum1a"
   ]
  },
  {
   "cell_type": "markdown",
   "id": "0d04aa97",
   "metadata": {},
   "source": [
    "__NOTE QUE:__ La variable EMPRESA enn realidad es un conteo que resume el total de accidentes por mes en cada año. En este sentido es mejor utilizar otro nombre como, por ejemplo, __num_accidentes__:"
   ]
  },
  {
   "cell_type": "code",
   "execution_count": 23,
   "id": "b7a18c33",
   "metadata": {
    "scrolled": false
   },
   "outputs": [
    {
     "name": "stderr",
     "output_type": "stream",
     "text": [
      "C:\\Users\\Mauricio Mazo\\anaconda3\\lib\\site-packages\\pandas\\core\\frame.py:5039: SettingWithCopyWarning: \n",
      "A value is trying to be set on a copy of a slice from a DataFrame\n",
      "\n",
      "See the caveats in the documentation: https://pandas.pydata.org/pandas-docs/stable/user_guide/indexing.html#returning-a-view-versus-a-copy\n",
      "  return super().rename(\n"
     ]
    }
   ],
   "source": [
    "acce_resum1a.rename(columns={\"EMPRESA\": \"num_accidentes\"}, inplace=True)"
   ]
  },
  {
   "cell_type": "code",
   "execution_count": 24,
   "id": "17888f8b",
   "metadata": {},
   "outputs": [
    {
     "data": {
      "text/html": [
       "<div>\n",
       "<style scoped>\n",
       "    .dataframe tbody tr th:only-of-type {\n",
       "        vertical-align: middle;\n",
       "    }\n",
       "\n",
       "    .dataframe tbody tr th {\n",
       "        vertical-align: top;\n",
       "    }\n",
       "\n",
       "    .dataframe thead th {\n",
       "        text-align: right;\n",
       "    }\n",
       "</style>\n",
       "<table border=\"1\" class=\"dataframe\">\n",
       "  <thead>\n",
       "    <tr style=\"text-align: right;\">\n",
       "      <th></th>\n",
       "      <th>anio</th>\n",
       "      <th>mes</th>\n",
       "      <th>num_accidentes</th>\n",
       "    </tr>\n",
       "  </thead>\n",
       "  <tbody>\n",
       "    <tr>\n",
       "      <th>4</th>\n",
       "      <td>2010</td>\n",
       "      <td>1</td>\n",
       "      <td>5</td>\n",
       "    </tr>\n",
       "    <tr>\n",
       "      <th>5</th>\n",
       "      <td>2010</td>\n",
       "      <td>2</td>\n",
       "      <td>1</td>\n",
       "    </tr>\n",
       "    <tr>\n",
       "      <th>6</th>\n",
       "      <td>2010</td>\n",
       "      <td>3</td>\n",
       "      <td>3</td>\n",
       "    </tr>\n",
       "    <tr>\n",
       "      <th>7</th>\n",
       "      <td>2010</td>\n",
       "      <td>4</td>\n",
       "      <td>5</td>\n",
       "    </tr>\n",
       "    <tr>\n",
       "      <th>8</th>\n",
       "      <td>2010</td>\n",
       "      <td>5</td>\n",
       "      <td>2</td>\n",
       "    </tr>\n",
       "    <tr>\n",
       "      <th>...</th>\n",
       "      <td>...</td>\n",
       "      <td>...</td>\n",
       "      <td>...</td>\n",
       "    </tr>\n",
       "    <tr>\n",
       "      <th>142</th>\n",
       "      <td>2021</td>\n",
       "      <td>8</td>\n",
       "      <td>2</td>\n",
       "    </tr>\n",
       "    <tr>\n",
       "      <th>143</th>\n",
       "      <td>2021</td>\n",
       "      <td>9</td>\n",
       "      <td>4</td>\n",
       "    </tr>\n",
       "    <tr>\n",
       "      <th>144</th>\n",
       "      <td>2021</td>\n",
       "      <td>10</td>\n",
       "      <td>2</td>\n",
       "    </tr>\n",
       "    <tr>\n",
       "      <th>145</th>\n",
       "      <td>2021</td>\n",
       "      <td>11</td>\n",
       "      <td>3</td>\n",
       "    </tr>\n",
       "    <tr>\n",
       "      <th>146</th>\n",
       "      <td>2021</td>\n",
       "      <td>12</td>\n",
       "      <td>3</td>\n",
       "    </tr>\n",
       "  </tbody>\n",
       "</table>\n",
       "<p>143 rows × 3 columns</p>\n",
       "</div>"
      ],
      "text/plain": [
       "     anio  mes  num_accidentes\n",
       "4    2010    1               5\n",
       "5    2010    2               1\n",
       "6    2010    3               3\n",
       "7    2010    4               5\n",
       "8    2010    5               2\n",
       "..    ...  ...             ...\n",
       "142  2021    8               2\n",
       "143  2021    9               4\n",
       "144  2021   10               2\n",
       "145  2021   11               3\n",
       "146  2021   12               3\n",
       "\n",
       "[143 rows x 3 columns]"
      ]
     },
     "execution_count": 24,
     "metadata": {},
     "output_type": "execute_result"
    }
   ],
   "source": [
    "acce_resum1a"
   ]
  },
  {
   "cell_type": "code",
   "execution_count": 25,
   "id": "82e237bb",
   "metadata": {
    "scrolled": true
   },
   "outputs": [
    {
     "data": {
      "text/plain": [
       "anio              int64\n",
       "mes               int64\n",
       "num_accidentes    int64\n",
       "dtype: object"
      ]
     },
     "execution_count": 25,
     "metadata": {},
     "output_type": "execute_result"
    }
   ],
   "source": [
    "acce_resum1a.dtypes"
   ]
  },
  {
   "cell_type": "markdown",
   "id": "f3a2ca23",
   "metadata": {},
   "source": [
    "Creamos una fecha con el año y el mes:"
   ]
  },
  {
   "cell_type": "code",
   "execution_count": 26,
   "id": "aee4aefd",
   "metadata": {
    "scrolled": true
   },
   "outputs": [
    {
     "name": "stderr",
     "output_type": "stream",
     "text": [
      "C:\\Temp/ipykernel_11944/2998182363.py:4: SettingWithCopyWarning: \n",
      "A value is trying to be set on a copy of a slice from a DataFrame.\n",
      "Try using .loc[row_indexer,col_indexer] = value instead\n",
      "\n",
      "See the caveats in the documentation: https://pandas.pydata.org/pandas-docs/stable/user_guide/indexing.html#returning-a-view-versus-a-copy\n",
      "  acce_resum1a[\"anio-mes\"] = anio_mes\n"
     ]
    }
   ],
   "source": [
    "anio_mes=[]\n",
    "for i in acce_resum1a.index:\n",
    "    anio_mes.append(datetime(acce_resum1a.anio.loc[i],acce_resum1a.mes.loc[i],1))\n",
    "acce_resum1a[\"anio-mes\"] = anio_mes"
   ]
  },
  {
   "cell_type": "code",
   "execution_count": 27,
   "id": "007df844",
   "metadata": {},
   "outputs": [
    {
     "data": {
      "text/html": [
       "<div>\n",
       "<style scoped>\n",
       "    .dataframe tbody tr th:only-of-type {\n",
       "        vertical-align: middle;\n",
       "    }\n",
       "\n",
       "    .dataframe tbody tr th {\n",
       "        vertical-align: top;\n",
       "    }\n",
       "\n",
       "    .dataframe thead th {\n",
       "        text-align: right;\n",
       "    }\n",
       "</style>\n",
       "<table border=\"1\" class=\"dataframe\">\n",
       "  <thead>\n",
       "    <tr style=\"text-align: right;\">\n",
       "      <th></th>\n",
       "      <th>anio</th>\n",
       "      <th>mes</th>\n",
       "      <th>num_accidentes</th>\n",
       "      <th>anio-mes</th>\n",
       "    </tr>\n",
       "  </thead>\n",
       "  <tbody>\n",
       "    <tr>\n",
       "      <th>4</th>\n",
       "      <td>2010</td>\n",
       "      <td>1</td>\n",
       "      <td>5</td>\n",
       "      <td>2010-01-01</td>\n",
       "    </tr>\n",
       "    <tr>\n",
       "      <th>5</th>\n",
       "      <td>2010</td>\n",
       "      <td>2</td>\n",
       "      <td>1</td>\n",
       "      <td>2010-02-01</td>\n",
       "    </tr>\n",
       "    <tr>\n",
       "      <th>6</th>\n",
       "      <td>2010</td>\n",
       "      <td>3</td>\n",
       "      <td>3</td>\n",
       "      <td>2010-03-01</td>\n",
       "    </tr>\n",
       "    <tr>\n",
       "      <th>7</th>\n",
       "      <td>2010</td>\n",
       "      <td>4</td>\n",
       "      <td>5</td>\n",
       "      <td>2010-04-01</td>\n",
       "    </tr>\n",
       "    <tr>\n",
       "      <th>8</th>\n",
       "      <td>2010</td>\n",
       "      <td>5</td>\n",
       "      <td>2</td>\n",
       "      <td>2010-05-01</td>\n",
       "    </tr>\n",
       "    <tr>\n",
       "      <th>...</th>\n",
       "      <td>...</td>\n",
       "      <td>...</td>\n",
       "      <td>...</td>\n",
       "      <td>...</td>\n",
       "    </tr>\n",
       "    <tr>\n",
       "      <th>142</th>\n",
       "      <td>2021</td>\n",
       "      <td>8</td>\n",
       "      <td>2</td>\n",
       "      <td>2021-08-01</td>\n",
       "    </tr>\n",
       "    <tr>\n",
       "      <th>143</th>\n",
       "      <td>2021</td>\n",
       "      <td>9</td>\n",
       "      <td>4</td>\n",
       "      <td>2021-09-01</td>\n",
       "    </tr>\n",
       "    <tr>\n",
       "      <th>144</th>\n",
       "      <td>2021</td>\n",
       "      <td>10</td>\n",
       "      <td>2</td>\n",
       "      <td>2021-10-01</td>\n",
       "    </tr>\n",
       "    <tr>\n",
       "      <th>145</th>\n",
       "      <td>2021</td>\n",
       "      <td>11</td>\n",
       "      <td>3</td>\n",
       "      <td>2021-11-01</td>\n",
       "    </tr>\n",
       "    <tr>\n",
       "      <th>146</th>\n",
       "      <td>2021</td>\n",
       "      <td>12</td>\n",
       "      <td>3</td>\n",
       "      <td>2021-12-01</td>\n",
       "    </tr>\n",
       "  </tbody>\n",
       "</table>\n",
       "<p>143 rows × 4 columns</p>\n",
       "</div>"
      ],
      "text/plain": [
       "     anio  mes  num_accidentes   anio-mes\n",
       "4    2010    1               5 2010-01-01\n",
       "5    2010    2               1 2010-02-01\n",
       "6    2010    3               3 2010-03-01\n",
       "7    2010    4               5 2010-04-01\n",
       "8    2010    5               2 2010-05-01\n",
       "..    ...  ...             ...        ...\n",
       "142  2021    8               2 2021-08-01\n",
       "143  2021    9               4 2021-09-01\n",
       "144  2021   10               2 2021-10-01\n",
       "145  2021   11               3 2021-11-01\n",
       "146  2021   12               3 2021-12-01\n",
       "\n",
       "[143 rows x 4 columns]"
      ]
     },
     "execution_count": 27,
     "metadata": {},
     "output_type": "execute_result"
    }
   ],
   "source": [
    "acce_resum1a"
   ]
  },
  {
   "cell_type": "markdown",
   "id": "832fb2fe",
   "metadata": {},
   "source": [
    "Asignamos la fecha __anio-mes__ como índices:"
   ]
  },
  {
   "cell_type": "code",
   "execution_count": 28,
   "id": "6fd2c7c5",
   "metadata": {},
   "outputs": [],
   "source": [
    "acce_resum1a.set_index(\"anio-mes\", inplace=True)"
   ]
  },
  {
   "cell_type": "code",
   "execution_count": 29,
   "id": "4c96d43d",
   "metadata": {
    "scrolled": true
   },
   "outputs": [
    {
     "data": {
      "text/html": [
       "<div>\n",
       "<style scoped>\n",
       "    .dataframe tbody tr th:only-of-type {\n",
       "        vertical-align: middle;\n",
       "    }\n",
       "\n",
       "    .dataframe tbody tr th {\n",
       "        vertical-align: top;\n",
       "    }\n",
       "\n",
       "    .dataframe thead th {\n",
       "        text-align: right;\n",
       "    }\n",
       "</style>\n",
       "<table border=\"1\" class=\"dataframe\">\n",
       "  <thead>\n",
       "    <tr style=\"text-align: right;\">\n",
       "      <th></th>\n",
       "      <th>anio</th>\n",
       "      <th>mes</th>\n",
       "      <th>num_accidentes</th>\n",
       "    </tr>\n",
       "    <tr>\n",
       "      <th>anio-mes</th>\n",
       "      <th></th>\n",
       "      <th></th>\n",
       "      <th></th>\n",
       "    </tr>\n",
       "  </thead>\n",
       "  <tbody>\n",
       "    <tr>\n",
       "      <th>2010-01-01</th>\n",
       "      <td>2010</td>\n",
       "      <td>1</td>\n",
       "      <td>5</td>\n",
       "    </tr>\n",
       "    <tr>\n",
       "      <th>2010-02-01</th>\n",
       "      <td>2010</td>\n",
       "      <td>2</td>\n",
       "      <td>1</td>\n",
       "    </tr>\n",
       "    <tr>\n",
       "      <th>2010-03-01</th>\n",
       "      <td>2010</td>\n",
       "      <td>3</td>\n",
       "      <td>3</td>\n",
       "    </tr>\n",
       "    <tr>\n",
       "      <th>2010-04-01</th>\n",
       "      <td>2010</td>\n",
       "      <td>4</td>\n",
       "      <td>5</td>\n",
       "    </tr>\n",
       "    <tr>\n",
       "      <th>2010-05-01</th>\n",
       "      <td>2010</td>\n",
       "      <td>5</td>\n",
       "      <td>2</td>\n",
       "    </tr>\n",
       "    <tr>\n",
       "      <th>...</th>\n",
       "      <td>...</td>\n",
       "      <td>...</td>\n",
       "      <td>...</td>\n",
       "    </tr>\n",
       "    <tr>\n",
       "      <th>2021-08-01</th>\n",
       "      <td>2021</td>\n",
       "      <td>8</td>\n",
       "      <td>2</td>\n",
       "    </tr>\n",
       "    <tr>\n",
       "      <th>2021-09-01</th>\n",
       "      <td>2021</td>\n",
       "      <td>9</td>\n",
       "      <td>4</td>\n",
       "    </tr>\n",
       "    <tr>\n",
       "      <th>2021-10-01</th>\n",
       "      <td>2021</td>\n",
       "      <td>10</td>\n",
       "      <td>2</td>\n",
       "    </tr>\n",
       "    <tr>\n",
       "      <th>2021-11-01</th>\n",
       "      <td>2021</td>\n",
       "      <td>11</td>\n",
       "      <td>3</td>\n",
       "    </tr>\n",
       "    <tr>\n",
       "      <th>2021-12-01</th>\n",
       "      <td>2021</td>\n",
       "      <td>12</td>\n",
       "      <td>3</td>\n",
       "    </tr>\n",
       "  </tbody>\n",
       "</table>\n",
       "<p>143 rows × 3 columns</p>\n",
       "</div>"
      ],
      "text/plain": [
       "            anio  mes  num_accidentes\n",
       "anio-mes                             \n",
       "2010-01-01  2010    1               5\n",
       "2010-02-01  2010    2               1\n",
       "2010-03-01  2010    3               3\n",
       "2010-04-01  2010    4               5\n",
       "2010-05-01  2010    5               2\n",
       "...          ...  ...             ...\n",
       "2021-08-01  2021    8               2\n",
       "2021-09-01  2021    9               4\n",
       "2021-10-01  2021   10               2\n",
       "2021-11-01  2021   11               3\n",
       "2021-12-01  2021   12               3\n",
       "\n",
       "[143 rows x 3 columns]"
      ]
     },
     "execution_count": 29,
     "metadata": {},
     "output_type": "execute_result"
    }
   ],
   "source": [
    "acce_resum1a\n"
   ]
  },
  {
   "cell_type": "code",
   "execution_count": 291,
   "id": "49a44099",
   "metadata": {
    "scrolled": true
   },
   "outputs": [
    {
     "data": {
      "text/plain": [
       "<AxesSubplot:xlabel='anio-mes'>"
      ]
     },
     "execution_count": 291,
     "metadata": {},
     "output_type": "execute_result"
    },
    {
     "data": {
      "image/png": "[encoded data removed]",
      "text/plain": [
       "<Figure size 432x288 with 1 Axes>"
      ]
     },
     "metadata": {},
     "output_type": "display_data"
    }
   ],
   "source": [
    "acce_resum1a.num_accidentes.plot()"
   ]
  },
  {
   "cell_type": "code",
   "execution_count": 30,
   "id": "1e05f7d2",
   "metadata": {},
   "outputs": [
    {
     "data": {
      "text/plain": [
       "(-1.561295104461205,\n",
       " 0.5030014408529455,\n",
       " 8,\n",
       " 134,\n",
       " {'1%': -3.480118600110386,\n",
       "  '5%': -2.8833618426136196,\n",
       "  '10%': -2.578407034974382},\n",
       " 855.8129177216604)"
      ]
     },
     "execution_count": 30,
     "metadata": {},
     "output_type": "execute_result"
    }
   ],
   "source": [
    "adfuller(acce_resum1a.num_accidentes)  # Serie Original p-valor>0.05. No es estacionaria."
   ]
  },
  {
   "cell_type": "code",
   "execution_count": 31,
   "id": "803829bb",
   "metadata": {},
   "outputs": [
    {
     "data": {
      "text/plain": [
       "(-8.174704929374975,\n",
       " 8.438017993906569e-13,\n",
       " 4,\n",
       " 137,\n",
       " {'1%': -3.479007355368944,\n",
       "  '5%': -2.8828782366015093,\n",
       "  '10%': -2.5781488587564603},\n",
       " 848.5991829245463)"
      ]
     },
     "execution_count": 31,
     "metadata": {},
     "output_type": "execute_result"
    }
   ],
   "source": [
    "adfuller(acce_resum1a.num_accidentes.diff().dropna()) # Serie primera diferencia p-valor<0.05. Sí es estacionaria."
   ]
  },
  {
   "cell_type": "code",
   "execution_count": 32,
   "id": "1c1042c4",
   "metadata": {
    "scrolled": true
   },
   "outputs": [
    {
     "data": {
      "image/png": "[encoded data removed]",
      "text/plain": [
       "<Figure size 432x288 with 1 Axes>"
      ]
     },
     "metadata": {},
     "output_type": "display_data"
    },
    {
     "data": {
      "image/png": "[encoded data removed]",
      "text/plain": [
       "<Figure size 432x288 with 1 Axes>"
      ]
     },
     "metadata": {},
     "output_type": "display_data"
    }
   ],
   "source": [
    "plot_acf(acce_resum1a.num_accidentes.diff().dropna())\n",
    "plt.show()\n",
    "plot_pacf(acce_resum1a.num_accidentes.diff().dropna(), method=\"ywm\")\n",
    "plt.show()"
   ]
  },
  {
   "cell_type": "markdown",
   "id": "2e025dc0",
   "metadata": {},
   "source": [
    "Ensayamos con tres modelos: ARIMA(1,1,0), ARIMA(0,1,1) y ARIMA(1,1,1)"
   ]
  },
  {
   "cell_type": "code",
   "execution_count": 33,
   "id": "aaa09ab6",
   "metadata": {
    "scrolled": true
   },
   "outputs": [
    {
     "name": "stderr",
     "output_type": "stream",
     "text": [
      "C:\\Users\\Mauricio Mazo\\anaconda3\\lib\\site-packages\\statsmodels\\tsa\\base\\tsa_model.py:581: ValueWarning: A date index has been provided, but it has no associated frequency information and so will be ignored when e.g. forecasting.\n",
      "  warnings.warn('A date index has been provided, but it has no'\n",
      "C:\\Users\\Mauricio Mazo\\anaconda3\\lib\\site-packages\\statsmodels\\tsa\\base\\tsa_model.py:581: ValueWarning: A date index has been provided, but it has no associated frequency information and so will be ignored when e.g. forecasting.\n",
      "  warnings.warn('A date index has been provided, but it has no'\n",
      "C:\\Users\\Mauricio Mazo\\anaconda3\\lib\\site-packages\\statsmodels\\tsa\\base\\tsa_model.py:581: ValueWarning: A date index has been provided, but it has no associated frequency information and so will be ignored when e.g. forecasting.\n",
      "  warnings.warn('A date index has been provided, but it has no'\n",
      "C:\\Users\\Mauricio Mazo\\anaconda3\\lib\\site-packages\\statsmodels\\tsa\\base\\tsa_model.py:581: ValueWarning: A date index has been provided, but it has no associated frequency information and so will be ignored when e.g. forecasting.\n",
      "  warnings.warn('A date index has been provided, but it has no'\n",
      "C:\\Users\\Mauricio Mazo\\anaconda3\\lib\\site-packages\\statsmodels\\tsa\\base\\tsa_model.py:581: ValueWarning: A date index has been provided, but it has no associated frequency information and so will be ignored when e.g. forecasting.\n",
      "  warnings.warn('A date index has been provided, but it has no'\n",
      "C:\\Users\\Mauricio Mazo\\anaconda3\\lib\\site-packages\\statsmodels\\tsa\\base\\tsa_model.py:581: ValueWarning: A date index has been provided, but it has no associated frequency information and so will be ignored when e.g. forecasting.\n",
      "  warnings.warn('A date index has been provided, but it has no'\n",
      "C:\\Users\\Mauricio Mazo\\anaconda3\\lib\\site-packages\\statsmodels\\tsa\\base\\tsa_model.py:581: ValueWarning: A date index has been provided, but it has no associated frequency information and so will be ignored when e.g. forecasting.\n",
      "  warnings.warn('A date index has been provided, but it has no'\n",
      "C:\\Users\\Mauricio Mazo\\anaconda3\\lib\\site-packages\\statsmodels\\tsa\\base\\tsa_model.py:581: ValueWarning: A date index has been provided, but it has no associated frequency information and so will be ignored when e.g. forecasting.\n",
      "  warnings.warn('A date index has been provided, but it has no'\n",
      "C:\\Users\\Mauricio Mazo\\anaconda3\\lib\\site-packages\\statsmodels\\tsa\\base\\tsa_model.py:581: ValueWarning: A date index has been provided, but it has no associated frequency information and so will be ignored when e.g. forecasting.\n",
      "  warnings.warn('A date index has been provided, but it has no'\n"
     ]
    }
   ],
   "source": [
    "modelo1 = ARIMA(acce_resum1a.num_accidentes, order=(1,1,0)).fit()\n",
    "modelo2 = ARIMA(acce_resum1a.num_accidentes, order=(0,1,1)).fit()\n",
    "modelo3 = ARIMA(acce_resum1a.num_accidentes, order=(1,1,1)).fit()"
   ]
  },
  {
   "cell_type": "markdown",
   "id": "8cbb0589",
   "metadata": {},
   "source": [
    "La advertencia que aparece es debida a que no hay una frecuencia en la fecha que aparece en el índice. Como los datos son mensuales entonces asignemos dicha frecuencia. __TENGA MUCHO CUIDADO CON ESTA OPCIÓN YA QUE EN MUCHOS CASOS LAS PREDICCIONES NO ESTÁN DE ACUERDO CON LA FECHA QUE DEBERÍA SER DADO A QUE POR EJEMPLO, CON FRECUENCIAS DIARIAS, DISTINTOS AÑOS PUEDEN TENER UN NÚMERO DISTINTO DE DÍAS EN LA SERIE DE TIEMPO__."
   ]
  },
  {
   "cell_type": "code",
   "execution_count": 34,
   "id": "12f30db9",
   "metadata": {},
   "outputs": [],
   "source": [
    "acce_resum1a.index = pd.DatetimeIndex(acce_resum1a.index).to_period('M')"
   ]
  },
  {
   "cell_type": "code",
   "execution_count": 35,
   "id": "5125788b",
   "metadata": {},
   "outputs": [],
   "source": [
    "modelo1 = ARIMA(acce_resum1a.num_accidentes, order=(1,1,0)).fit()\n",
    "modelo2 = ARIMA(acce_resum1a.num_accidentes, order=(0,1,1)).fit()\n",
    "modelo3 = ARIMA(acce_resum1a.num_accidentes, order=(1,1,1)).fit()"
   ]
  },
  {
   "cell_type": "markdown",
   "id": "11822dab",
   "metadata": {},
   "source": [
    "Encontramos los AIC y los BIC:"
   ]
  },
  {
   "cell_type": "code",
   "execution_count": 36,
   "id": "f061dd39",
   "metadata": {
    "scrolled": false
   },
   "outputs": [
    {
     "name": "stdout",
     "output_type": "stream",
     "text": [
      "954.9209469385894 943.5763300894387 945.4638697996122\n",
      "960.8326010537919 949.4879842046412 954.331350972416\n"
     ]
    }
   ],
   "source": [
    "print(modelo1.aic, modelo2.aic, modelo3.aic)\n",
    "print(modelo1.bic, modelo2.bic, modelo3.bic)"
   ]
  },
  {
   "cell_type": "markdown",
   "id": "c603da05",
   "metadata": {},
   "source": [
    "Tanto con el AIC como con el BIC gana el __modelo2__: ARIMA(0,1,1)"
   ]
  },
  {
   "cell_type": "code",
   "execution_count": 37,
   "id": "43c94701",
   "metadata": {
    "scrolled": true
   },
   "outputs": [
    {
     "data": {
      "text/html": [
       "<table class=\"simpletable\">\n",
       "<caption>SARIMAX Results</caption>\n",
       "<tr>\n",
       "  <th>Dep. Variable:</th>    <td>num_accidentes</td>  <th>  No. Observations:  </th>    <td>143</td>  \n",
       "</tr>\n",
       "<tr>\n",
       "  <th>Model:</th>            <td>ARIMA(0, 1, 1)</td>  <th>  Log Likelihood     </th> <td>-469.788</td>\n",
       "</tr>\n",
       "<tr>\n",
       "  <th>Date:</th>            <td>Fri, 30 Sep 2022</td> <th>  AIC                </th>  <td>943.576</td>\n",
       "</tr>\n",
       "<tr>\n",
       "  <th>Time:</th>                <td>12:39:29</td>     <th>  BIC                </th>  <td>949.488</td>\n",
       "</tr>\n",
       "<tr>\n",
       "  <th>Sample:</th>             <td>01-31-2010</td>    <th>  HQIC               </th>  <td>945.979</td>\n",
       "</tr>\n",
       "<tr>\n",
       "  <th></th>                   <td>- 12-31-2021</td>   <th>                     </th>     <td> </td>   \n",
       "</tr>\n",
       "<tr>\n",
       "  <th>Covariance Type:</th>        <td>opg</td>       <th>                     </th>     <td> </td>   \n",
       "</tr>\n",
       "</table>\n",
       "<table class=\"simpletable\">\n",
       "<tr>\n",
       "     <td></td>       <th>coef</th>     <th>std err</th>      <th>z</th>      <th>P>|z|</th>  <th>[0.025</th>    <th>0.975]</th>  \n",
       "</tr>\n",
       "<tr>\n",
       "  <th>ma.L1</th>  <td>   -0.6142</td> <td>    0.062</td> <td>   -9.979</td> <td> 0.000</td> <td>   -0.735</td> <td>   -0.494</td>\n",
       "</tr>\n",
       "<tr>\n",
       "  <th>sigma2</th> <td>   43.6203</td> <td>    5.105</td> <td>    8.545</td> <td> 0.000</td> <td>   33.615</td> <td>   53.625</td>\n",
       "</tr>\n",
       "</table>\n",
       "<table class=\"simpletable\">\n",
       "<tr>\n",
       "  <th>Ljung-Box (L1) (Q):</th>     <td>0.03</td> <th>  Jarque-Bera (JB):  </th> <td>0.07</td> \n",
       "</tr>\n",
       "<tr>\n",
       "  <th>Prob(Q):</th>                <td>0.86</td> <th>  Prob(JB):          </th> <td>0.97</td> \n",
       "</tr>\n",
       "<tr>\n",
       "  <th>Heteroskedasticity (H):</th> <td>1.02</td> <th>  Skew:              </th> <td>-0.04</td>\n",
       "</tr>\n",
       "<tr>\n",
       "  <th>Prob(H) (two-sided):</th>    <td>0.96</td> <th>  Kurtosis:          </th> <td>3.06</td> \n",
       "</tr>\n",
       "</table><br/><br/>Warnings:<br/>[1] Covariance matrix calculated using the outer product of gradients (complex-step)."
      ],
      "text/plain": [
       "<class 'statsmodels.iolib.summary.Summary'>\n",
       "\"\"\"\n",
       "                               SARIMAX Results                                \n",
       "==============================================================================\n",
       "Dep. Variable:         num_accidentes   No. Observations:                  143\n",
       "Model:                 ARIMA(0, 1, 1)   Log Likelihood                -469.788\n",
       "Date:                Fri, 30 Sep 2022   AIC                            943.576\n",
       "Time:                        12:39:29   BIC                            949.488\n",
       "Sample:                    01-31-2010   HQIC                           945.979\n",
       "                         - 12-31-2021                                         \n",
       "Covariance Type:                  opg                                         \n",
       "==============================================================================\n",
       "                 coef    std err          z      P>|z|      [0.025      0.975]\n",
       "------------------------------------------------------------------------------\n",
       "ma.L1         -0.6142      0.062     -9.979      0.000      -0.735      -0.494\n",
       "sigma2        43.6203      5.105      8.545      0.000      33.615      53.625\n",
       "===================================================================================\n",
       "Ljung-Box (L1) (Q):                   0.03   Jarque-Bera (JB):                 0.07\n",
       "Prob(Q):                              0.86   Prob(JB):                         0.97\n",
       "Heteroskedasticity (H):               1.02   Skew:                            -0.04\n",
       "Prob(H) (two-sided):                  0.96   Kurtosis:                         3.06\n",
       "===================================================================================\n",
       "\n",
       "Warnings:\n",
       "[1] Covariance matrix calculated using the outer product of gradients (complex-step).\n",
       "\"\"\""
      ]
     },
     "execution_count": 37,
     "metadata": {},
     "output_type": "execute_result"
    }
   ],
   "source": [
    "modelo2.summary()"
   ]
  },
  {
   "cell_type": "markdown",
   "id": "14f66df4",
   "metadata": {},
   "source": [
    "__NOTE QUE:__ El test de Ljung-Box aparentemente solo aplica para ver si hay autocorrelación a un lag, es decir, entre $X_t$ y $X_{t-1}$. En este caso $h=1$, pero también es posible verificar para $h>1$:"
   ]
  },
  {
   "cell_type": "code",
   "execution_count": 38,
   "id": "9effbc7b",
   "metadata": {},
   "outputs": [],
   "source": [
    "sm.stats.acorr_ljungbox?"
   ]
  },
  {
   "cell_type": "code",
   "execution_count": 39,
   "id": "b27b5ba0",
   "metadata": {
    "scrolled": true
   },
   "outputs": [
    {
     "data": {
      "text/html": [
       "<div>\n",
       "<style scoped>\n",
       "    .dataframe tbody tr th:only-of-type {\n",
       "        vertical-align: middle;\n",
       "    }\n",
       "\n",
       "    .dataframe tbody tr th {\n",
       "        vertical-align: top;\n",
       "    }\n",
       "\n",
       "    .dataframe thead th {\n",
       "        text-align: right;\n",
       "    }\n",
       "</style>\n",
       "<table border=\"1\" class=\"dataframe\">\n",
       "  <thead>\n",
       "    <tr style=\"text-align: right;\">\n",
       "      <th></th>\n",
       "      <th>lb_stat</th>\n",
       "      <th>lb_pvalue</th>\n",
       "    </tr>\n",
       "  </thead>\n",
       "  <tbody>\n",
       "    <tr>\n",
       "      <th>1</th>\n",
       "      <td>0.018289</td>\n",
       "      <td>0.892426</td>\n",
       "    </tr>\n",
       "    <tr>\n",
       "      <th>2</th>\n",
       "      <td>0.123173</td>\n",
       "      <td>0.940272</td>\n",
       "    </tr>\n",
       "    <tr>\n",
       "      <th>3</th>\n",
       "      <td>3.609221</td>\n",
       "      <td>0.306870</td>\n",
       "    </tr>\n",
       "    <tr>\n",
       "      <th>4</th>\n",
       "      <td>3.655147</td>\n",
       "      <td>0.454683</td>\n",
       "    </tr>\n",
       "    <tr>\n",
       "      <th>5</th>\n",
       "      <td>4.668490</td>\n",
       "      <td>0.457661</td>\n",
       "    </tr>\n",
       "    <tr>\n",
       "      <th>6</th>\n",
       "      <td>9.425074</td>\n",
       "      <td>0.151045</td>\n",
       "    </tr>\n",
       "    <tr>\n",
       "      <th>7</th>\n",
       "      <td>9.945657</td>\n",
       "      <td>0.191674</td>\n",
       "    </tr>\n",
       "    <tr>\n",
       "      <th>8</th>\n",
       "      <td>10.030498</td>\n",
       "      <td>0.262892</td>\n",
       "    </tr>\n",
       "    <tr>\n",
       "      <th>9</th>\n",
       "      <td>20.021532</td>\n",
       "      <td>0.017780</td>\n",
       "    </tr>\n",
       "    <tr>\n",
       "      <th>10</th>\n",
       "      <td>20.103123</td>\n",
       "      <td>0.028292</td>\n",
       "    </tr>\n",
       "  </tbody>\n",
       "</table>\n",
       "</div>"
      ],
      "text/plain": [
       "      lb_stat  lb_pvalue\n",
       "1    0.018289   0.892426\n",
       "2    0.123173   0.940272\n",
       "3    3.609221   0.306870\n",
       "4    3.655147   0.454683\n",
       "5    4.668490   0.457661\n",
       "6    9.425074   0.151045\n",
       "7    9.945657   0.191674\n",
       "8   10.030498   0.262892\n",
       "9   20.021532   0.017780\n",
       "10  20.103123   0.028292"
      ]
     },
     "execution_count": 39,
     "metadata": {},
     "output_type": "execute_result"
    }
   ],
   "source": [
    "sm.stats.acorr_ljungbox(modelo2.resid, lags=10, return_df=True)"
   ]
  },
  {
   "cell_type": "markdown",
   "id": "2a5d86e6",
   "metadata": {},
   "source": [
    "Hasta el lag $h=8$ no hay autocorrelación en los residuales, lo cual es un indicativo de que no son autocorrelacionados."
   ]
  },
  {
   "cell_type": "markdown",
   "id": "25f69089",
   "metadata": {},
   "source": [
    "## Recuerde que el modelo ARIMA(p, d, q) está dado por:\n",
    "\n",
    "$$\\phi(B)(1-B)^dX_t=\\theta(B)w_t$$\n",
    "donde \n",
    "$$\\phi(B)=1-\\phi_1B-\\phi_2B^2-\\cdots-\\phi_pB^p$$\n",
    "y\n",
    "$$\\theta(B)=1+\\theta_1B+\\theta_2B^2+\\cdots+\\theta_pB^q$$\n",
    "\n",
    "Así, el modelo estimado __modelo2__ : ARIMA(0,1,1), está dado por:\n",
    "$$(1-B)X_t=\\theta(B)w_t$$\n",
    "Es decir,\n",
    "$$X_t-X_{t-1}=(1-(-0.6142)B)w_t\\ \\implies\\ X_t=X_{t-1}+w_t+0.6142w_{t-1}$$\n"
   ]
  },
  {
   "cell_type": "markdown",
   "id": "9454107a",
   "metadata": {},
   "source": [
    "Hagamos ahora un diagnóstico del modelo 2:"
   ]
  },
  {
   "cell_type": "code",
   "execution_count": 40,
   "id": "a2585b24",
   "metadata": {
    "scrolled": true
   },
   "outputs": [
    {
     "name": "stderr",
     "output_type": "stream",
     "text": [
      "C:\\Users\\Mauricio Mazo\\anaconda3\\lib\\site-packages\\statsmodels\\graphics\\gofplots.py:993: UserWarning: marker is redundantly defined by the 'marker' keyword argument and the fmt string \"bo\" (-> marker='o'). The keyword argument will take precedence.\n",
      "  ax.plot(x, y, fmt, **plot_style)\n"
     ]
    },
    {
     "data": {
      "image/png": "[encoded data removed]",
      "text/plain": [
       "<Figure size 1080x864 with 4 Axes>"
      ]
     },
     "metadata": {},
     "output_type": "display_data"
    }
   ],
   "source": [
    "modelo2.plot_diagnostics(figsize=(15,12))\n",
    "plt.show()"
   ]
  },
  {
   "cell_type": "markdown",
   "id": "c8d8fb9e",
   "metadata": {},
   "source": [
    "Realicemos pronósticos:"
   ]
  },
  {
   "cell_type": "code",
   "execution_count": 41,
   "id": "2031415d",
   "metadata": {
    "scrolled": true
   },
   "outputs": [
    {
     "data": {
      "text/html": [
       "<div>\n",
       "<style scoped>\n",
       "    .dataframe tbody tr th:only-of-type {\n",
       "        vertical-align: middle;\n",
       "    }\n",
       "\n",
       "    .dataframe tbody tr th {\n",
       "        vertical-align: top;\n",
       "    }\n",
       "\n",
       "    .dataframe thead th {\n",
       "        text-align: right;\n",
       "    }\n",
       "</style>\n",
       "<table border=\"1\" class=\"dataframe\">\n",
       "  <thead>\n",
       "    <tr style=\"text-align: right;\">\n",
       "      <th></th>\n",
       "      <th>anio</th>\n",
       "      <th>mes</th>\n",
       "      <th>num_accidentes</th>\n",
       "    </tr>\n",
       "    <tr>\n",
       "      <th>anio-mes</th>\n",
       "      <th></th>\n",
       "      <th></th>\n",
       "      <th></th>\n",
       "    </tr>\n",
       "  </thead>\n",
       "  <tbody>\n",
       "    <tr>\n",
       "      <th>2010-01</th>\n",
       "      <td>2010</td>\n",
       "      <td>1</td>\n",
       "      <td>5</td>\n",
       "    </tr>\n",
       "    <tr>\n",
       "      <th>2010-02</th>\n",
       "      <td>2010</td>\n",
       "      <td>2</td>\n",
       "      <td>1</td>\n",
       "    </tr>\n",
       "    <tr>\n",
       "      <th>2010-03</th>\n",
       "      <td>2010</td>\n",
       "      <td>3</td>\n",
       "      <td>3</td>\n",
       "    </tr>\n",
       "    <tr>\n",
       "      <th>2010-04</th>\n",
       "      <td>2010</td>\n",
       "      <td>4</td>\n",
       "      <td>5</td>\n",
       "    </tr>\n",
       "    <tr>\n",
       "      <th>2010-05</th>\n",
       "      <td>2010</td>\n",
       "      <td>5</td>\n",
       "      <td>2</td>\n",
       "    </tr>\n",
       "    <tr>\n",
       "      <th>...</th>\n",
       "      <td>...</td>\n",
       "      <td>...</td>\n",
       "      <td>...</td>\n",
       "    </tr>\n",
       "    <tr>\n",
       "      <th>2021-08</th>\n",
       "      <td>2021</td>\n",
       "      <td>8</td>\n",
       "      <td>2</td>\n",
       "    </tr>\n",
       "    <tr>\n",
       "      <th>2021-09</th>\n",
       "      <td>2021</td>\n",
       "      <td>9</td>\n",
       "      <td>4</td>\n",
       "    </tr>\n",
       "    <tr>\n",
       "      <th>2021-10</th>\n",
       "      <td>2021</td>\n",
       "      <td>10</td>\n",
       "      <td>2</td>\n",
       "    </tr>\n",
       "    <tr>\n",
       "      <th>2021-11</th>\n",
       "      <td>2021</td>\n",
       "      <td>11</td>\n",
       "      <td>3</td>\n",
       "    </tr>\n",
       "    <tr>\n",
       "      <th>2021-12</th>\n",
       "      <td>2021</td>\n",
       "      <td>12</td>\n",
       "      <td>3</td>\n",
       "    </tr>\n",
       "  </tbody>\n",
       "</table>\n",
       "<p>143 rows × 3 columns</p>\n",
       "</div>"
      ],
      "text/plain": [
       "          anio  mes  num_accidentes\n",
       "anio-mes                           \n",
       "2010-01   2010    1               5\n",
       "2010-02   2010    2               1\n",
       "2010-03   2010    3               3\n",
       "2010-04   2010    4               5\n",
       "2010-05   2010    5               2\n",
       "...        ...  ...             ...\n",
       "2021-08   2021    8               2\n",
       "2021-09   2021    9               4\n",
       "2021-10   2021   10               2\n",
       "2021-11   2021   11               3\n",
       "2021-12   2021   12               3\n",
       "\n",
       "[143 rows x 3 columns]"
      ]
     },
     "execution_count": 41,
     "metadata": {},
     "output_type": "execute_result"
    }
   ],
   "source": [
    "acce_resum1a"
   ]
  },
  {
   "cell_type": "code",
   "execution_count": 42,
   "id": "25b635ea",
   "metadata": {},
   "outputs": [
    {
     "data": {
      "text/html": [
       "<div>\n",
       "<style scoped>\n",
       "    .dataframe tbody tr th:only-of-type {\n",
       "        vertical-align: middle;\n",
       "    }\n",
       "\n",
       "    .dataframe tbody tr th {\n",
       "        vertical-align: top;\n",
       "    }\n",
       "\n",
       "    .dataframe thead th {\n",
       "        text-align: right;\n",
       "    }\n",
       "</style>\n",
       "<table border=\"1\" class=\"dataframe\">\n",
       "  <thead>\n",
       "    <tr style=\"text-align: right;\">\n",
       "      <th></th>\n",
       "      <th>lower num_accidentes</th>\n",
       "      <th>upper num_accidentes</th>\n",
       "    </tr>\n",
       "  </thead>\n",
       "  <tbody>\n",
       "    <tr>\n",
       "      <th>2021-12</th>\n",
       "      <td>-9.955808</td>\n",
       "      <td>15.933627</td>\n",
       "    </tr>\n",
       "    <tr>\n",
       "      <th>2022-01</th>\n",
       "      <td>-10.885655</td>\n",
       "      <td>16.863474</td>\n",
       "    </tr>\n",
       "    <tr>\n",
       "      <th>2022-02</th>\n",
       "      <td>-11.756983</td>\n",
       "      <td>17.734803</td>\n",
       "    </tr>\n",
       "    <tr>\n",
       "      <th>2022-03</th>\n",
       "      <td>-12.579622</td>\n",
       "      <td>18.557442</td>\n",
       "    </tr>\n",
       "    <tr>\n",
       "      <th>2022-04</th>\n",
       "      <td>-13.360923</td>\n",
       "      <td>19.338742</td>\n",
       "    </tr>\n",
       "    <tr>\n",
       "      <th>2022-05</th>\n",
       "      <td>-14.106553</td>\n",
       "      <td>20.084372</td>\n",
       "    </tr>\n",
       "  </tbody>\n",
       "</table>\n",
       "</div>"
      ],
      "text/plain": [
       "         lower num_accidentes  upper num_accidentes\n",
       "2021-12             -9.955808             15.933627\n",
       "2022-01            -10.885655             16.863474\n",
       "2022-02            -11.756983             17.734803\n",
       "2022-03            -12.579622             18.557442\n",
       "2022-04            -13.360923             19.338742\n",
       "2022-05            -14.106553             20.084372"
      ]
     },
     "execution_count": 42,
     "metadata": {},
     "output_type": "execute_result"
    }
   ],
   "source": [
    "fore = modelo2.get_forecast(6) # Note que está haciendo predicción del 2021-12 porque no hay 12*12=144 datos sino 143\n",
    "fore_ci = fore.conf_int()\n",
    "fore_ci"
   ]
  },
  {
   "cell_type": "code",
   "execution_count": 43,
   "id": "cfc8e968",
   "metadata": {},
   "outputs": [
    {
     "data": {
      "text/html": [
       "<div>\n",
       "<style scoped>\n",
       "    .dataframe tbody tr th:only-of-type {\n",
       "        vertical-align: middle;\n",
       "    }\n",
       "\n",
       "    .dataframe tbody tr th {\n",
       "        vertical-align: top;\n",
       "    }\n",
       "\n",
       "    .dataframe thead th {\n",
       "        text-align: right;\n",
       "    }\n",
       "</style>\n",
       "<table border=\"1\" class=\"dataframe\">\n",
       "  <thead>\n",
       "    <tr style=\"text-align: right;\">\n",
       "      <th></th>\n",
       "      <th>lower num_accidentes</th>\n",
       "      <th>upper num_accidentes</th>\n",
       "    </tr>\n",
       "  </thead>\n",
       "  <tbody>\n",
       "    <tr>\n",
       "      <th>2022-01</th>\n",
       "      <td>-10.885655</td>\n",
       "      <td>16.863474</td>\n",
       "    </tr>\n",
       "    <tr>\n",
       "      <th>2022-02</th>\n",
       "      <td>-11.756983</td>\n",
       "      <td>17.734803</td>\n",
       "    </tr>\n",
       "    <tr>\n",
       "      <th>2022-03</th>\n",
       "      <td>-12.579622</td>\n",
       "      <td>18.557442</td>\n",
       "    </tr>\n",
       "    <tr>\n",
       "      <th>2022-04</th>\n",
       "      <td>-13.360923</td>\n",
       "      <td>19.338742</td>\n",
       "    </tr>\n",
       "    <tr>\n",
       "      <th>2022-05</th>\n",
       "      <td>-14.106553</td>\n",
       "      <td>20.084372</td>\n",
       "    </tr>\n",
       "  </tbody>\n",
       "</table>\n",
       "</div>"
      ],
      "text/plain": [
       "         lower num_accidentes  upper num_accidentes\n",
       "2022-01            -10.885655             16.863474\n",
       "2022-02            -11.756983             17.734803\n",
       "2022-03            -12.579622             18.557442\n",
       "2022-04            -13.360923             19.338742\n",
       "2022-05            -14.106553             20.084372"
      ]
     },
     "execution_count": 43,
     "metadata": {},
     "output_type": "execute_result"
    }
   ],
   "source": [
    "pred = modelo2.get_prediction(start=\"2022-1\", end=\"2022-5\", dynamic=False) # dynamic=False evita que las predicciones futuras\n",
    "                                                               # se conviertan en datos de la muestra para predicciones \n",
    "                                                               # que van más adelante.\n",
    "pred_ci = pred.conf_int(alpha=0.05) # Intervalo de confianza \n",
    "pred_ci"
   ]
  },
  {
   "cell_type": "code",
   "execution_count": 44,
   "id": "319a4761",
   "metadata": {
    "scrolled": true
   },
   "outputs": [
    {
     "data": {
      "text/plain": [
       "2022-01    2.98891\n",
       "2022-02    2.98891\n",
       "2022-03    2.98891\n",
       "2022-04    2.98891\n",
       "2022-05    2.98891\n",
       "Freq: M, Name: predicted_mean, dtype: float64"
      ]
     },
     "execution_count": 44,
     "metadata": {},
     "output_type": "execute_result"
    }
   ],
   "source": [
    "pred.predicted_mean"
   ]
  },
  {
   "cell_type": "code",
   "execution_count": 45,
   "id": "076a6692",
   "metadata": {},
   "outputs": [
    {
     "data": {
      "text/plain": [
       "<matplotlib.legend.Legend at 0x260f47c53a0>"
      ]
     },
     "execution_count": 45,
     "metadata": {},
     "output_type": "execute_result"
    },
    {
     "data": {
      "image/png": "[encoded data removed]",
      "text/plain": [
       "<Figure size 1152x576 with 1 Axes>"
      ]
     },
     "metadata": {},
     "output_type": "display_data"
    }
   ],
   "source": [
    "plt.figure(figsize=(16,8))  #  Graficamos:\n",
    "acce_resum1a.num_accidentes.plot()\n",
    "pred.predicted_mean.plot()\n",
    "pred_ci.iloc[:,0].plot(color=\"green\")\n",
    "pred_ci.iloc[:,1].plot(color=\"green\")\n",
    "plt.legend([\"Real\", \"Predicho\", \"Intervalo de Confianza\"])"
   ]
  }
 ],
 "metadata": {
  "kernelspec": {
   "display_name": "Python 3 (ipykernel)",
   "language": "python",
   "name": "python3"
  },
  "language_info": {
   "codemirror_mode": {
    "name": "ipython",
    "version": 3
   },
   "file_extension": ".py",
   "mimetype": "text/x-python",
   "name": "python",
   "nbconvert_exporter": "python",
   "pygments_lexer": "ipython3",
   "version": "3.9.7"
  }
 },
 "nbformat": 4,
 "nbformat_minor": 5
}
