{
 "cells": [
  {
   "cell_type": "code",
   "execution_count": null,
   "id": "5ac4bc26",
   "metadata": {},
   "outputs": [],
   "source": []
  },
  {
   "cell_type": "markdown",
   "id": "ffd1d4e2",
   "metadata": {},
   "source": [
    "# Parcial 2 -  Enunciados\n",
    "\n",
    "Considere las tres series de tiempo que aparecen en cada una de las hojas de excel del archivo __datos_parcial2.xlsx__.\n",
    "\n",
    "Importe cada una de las tres series de tiempo y para cada una de ellas resuelva lo siguiente en Python:\n",
    "\n",
    "1. Realice los gráficos ACF y PACF para tratar de identificar los órdenes $p$, $d$ y $q$ del modelo ARIMA($p$, $d$, $q$). Saque conclusiones argumentando cada una.\n",
    "\n",
    "2. Aplique la prueba de Dickey-Fuller para ver si es necesario tomar diferencias (valor de $d$). Saque conclusiones argumentando cada una.\n",
    "\n",
    "3. Si $d\\geq 1$ en el item (2), entonces realice nuevamente los gráficos ACF y PACF de la serie diferenciada de orden $d$, esto con el fin de identificar los ordenes $p$ y $q$. Saque conclusiones argumentando cada una.\n",
    "\n",
    "4. Aplique varios modelos (explicando el por qué aplica cada uno) y use un criterio de selección (AIC, BIC) para seleccionar el \"mejor\". Saque conclusiones argumentando cada una.\n",
    "\n",
    "5. Verifique si el \"mejor\" modelo seleccionado en el item (4) es estacionario e invertible (recuerde usar las funciones __abs__ y __np.roots__ aplicadas a los polinómios estimados por el modelo). Saque conclusiones argumentando cada una.\n",
    "\n",
    "6. Verifique si existe autocorrelación en los residuales del modelo seleccionado utilizando el gráfico ACF y complementando con la prueba de Ljung-Box (para los primeros 10 lags, es decir, h=10). Saque conclusiones argumentando cada una.\n",
    "\n",
    "7. Verifique si hay normalidad en los residuales del modelo. Saque conclusiones argumentando cada una.\n",
    "\n",
    "8. Si todo lo anterior se cumple entonces puede realizar pronósticos con el \"mejor\" modelo ajustado para los 5 valores futuros. Saque conclusiones argumentando cada una."
   ]
  },
  {
   "cell_type": "markdown",
   "id": "b00d8451",
   "metadata": {},
   "source": [
    "En la primera celda del trabajo ubique los nombres de los integrantes del grupo de la siguiente forma:\n",
    "\n",
    "- __Nombre y cédula del integrante 1 del grupo:__\n",
    "\n",
    "\n",
    "\n",
    "- __Nombre y cédula del integrante 2 del grupo:__\n"
   ]
  }
 ],
 "metadata": {
  "kernelspec": {
   "display_name": "Python 3 (ipykernel)",
   "language": "python",
   "name": "python3"
  },
  "language_info": {
   "codemirror_mode": {
    "name": "ipython",
    "version": 3
   },
   "file_extension": ".py",
   "mimetype": "text/x-python",
   "name": "python",
   "nbconvert_exporter": "python",
   "pygments_lexer": "ipython3",
   "version": "3.9.7"
  }
 },
 "nbformat": 4,
 "nbformat_minor": 5
}
